{
 "cells": [
  {
   "cell_type": "markdown",
   "metadata": {},
   "source": [
    "# Political Document Analysis System Demo\n",
    "\n",
    "This notebook demonstrates the Political Document Analysis System built with LlamaIndex."
   ]
  },
  {
   "cell_type": "code",
   "execution_count": null,
   "metadata": {},
   "outputs": [],
   "source": [
    "# Import required modules\n",
    "import asyncio\n",
    "import sys\n",
    "from pathlib import Path\n",
    "\n",
    "# Add the current directory to Python path\n",
    "sys.path.append(str(Path().resolve()))\n",
    "\n",
    "# Import our political analysis modules\n",
    "from political_analysis_init import config\n",
    "from political_document_ingestor import PoliticalDocumentIngestor\n",
    "from political_entity_extractor import PoliticalEntityExtractor\n",
    "from political_knowledge_graph import PoliticalKnowledgeGraph\n",
    "from political_analysis_agent import PoliticalAnalysisAgent\n",
    "from political_analysis_orchestrator import PoliticalAnalysisOrchestrator"
   ]
  },
  {
   "cell_type": "code",
   "execution_count": null,
   "metadata": {},
   "outputs": [],
   "source": [
    "# Initialize the document ingestor\n",
    "ingestor = PoliticalDocumentIngestor(config)\n",
    "\n",
    "# Load sample documents\n",
    "documents = ingestor.load_local_documents(\"./data/sample_docs\")\n",
    "\n",
    "print(f\"Loaded {len(documents)} documents\")\n",
    "if documents:\n",
    "    print(f\"First document preview: {documents[0].text[:200]}...\")"
   ]
  },
  {
   "cell_type": "code",
   "execution_count": null,
   "metadata": {},
   "outputs": [],
   "source": [
    "# Initialize the entity extractor\n",
    "extractor = PoliticalEntityExtractor(config)\n",
    "\n",
    "# Extract political entities\n",
    "if documents:\n",
    "    entities = extractor.extract_political_entities(documents)\n",
    "    print(\"Extracted entities:\")\n",
    "    for entity_type, entity_list in entities.items():\n",
    "        print(f\"  {entity_type}: {len(entity_list)} items\")\n",
    "        if entity_list:\n",
    "            print(f\"    Example: {entity_list[0].get('extraction', 'N/A')[:100]}...\")"
   ]
  },
  {
   "cell_type": "code",
   "execution_count": null,
   "metadata": {},
   "outputs": [],
   "source": [
    "# Initialize the analysis agent\n",
    "async def initialize_agent():\n",
    "    agent = PoliticalAnalysisAgent(config)\n",
    "    initialized = await agent.initialize_agent()\n",
    "    return agent, initialized\n",
    "\n",
    "# Run the async initialization\n",
    "agent, initialized = asyncio.run(initialize_agent())\n",
    "\n",
    "if initialized:\n",
    "    print(f\"Agent initialized with {len(agent.tools)} tools\")\n",
    "else:\n",
    "    print(\"Agent initialization failed\")"
   ]
  },
  {
   "cell_type": "code",
   "execution_count": null,
   "metadata": {},
   "outputs": [],
   "source": [
    "# Perform document analysis\n",
    "async def analyze_documents():\n",
    "    if documents and initialized:\n",
    "        results = await agent.analyze_documents(documents)\n",
    "        return results\n",
    "    return {}\n",
    "\n",
    "# Run the analysis\n",
    "analysis_results = asyncio.run(analyze_documents())\n",
    "\n",
    "if analysis_results:\n",
    "    print(\"Document analysis completed:\")\n",
    "    print(f\"  Document count: {analysis_results.get('document_count', 0)}\")\n",
    "    if 'summary' in analysis_results:\n",
    "        print(f\"  Summary: {analysis_results['summary'][:200]}...\")"
   ]
  },
  {
   "cell_type": "code",
   "execution_count": null,
   "metadata": {},
   "outputs": [],
   "source": [
    "# Ask a targeted question\n",
    "async def ask_question():\n",
    "    if initialized and documents:\n",
    "        question = \"What are the key policy positions mentioned in the documents?\"\n",
    "        answer = await agent.answer_question(question)\n",
    "        return answer\n",
    "    return \"Agent not initialized or no documents available\"\n",
    "\n",
    "# Run the question\n",
    "answer = asyncio.run(ask_question())\n",
    "print(f\"Answer to question: {answer}\")"
   ]
  },
  {
   "cell_type": "markdown",
   "metadata": {},
   "source": [
    "## Summary\n",
    "\n",
    "This demo has shown how the Political Document Analysis System can:\n",
    "\n",
    "1. Ingest political documents from various sources\n",
    "2. Extract political entities (politicians, parties, legislation, policies)\n",
    "3. Initialize an intelligent analysis agent with specialized tools\n",
    "4. Perform comprehensive document analysis\n",
    "5. Answer targeted questions about political content\n",
    "\n",
    "The system is ready to be extended with additional capabilities such as:\n",
    "- Knowledge graph construction with Neo4j\n",
    "- MCP server integration for specialized political tools\n",
    "- Advanced web crawling for real-time political data\n",
    "- Complex relationship extraction and network analysis\n",
    "- Predictive analytics for political trends"
   ]
  }
 ],
 "metadata": {
  "kernelspec": {
   "display_name": "Python 3",
   "language": "python",
   "name": "python3"
  },
  "language_info": {
   "codemirror_mode": {
    "name": "ipython",
    "version": 3
   },
   "file_extension": ".py",
   "mimetype": "text/x-python",
   "name": "python",
   "nbconvert_exporter": "python",
   "pygments_lexer": "ipython3",
   "version": "3.11.0"
  }
 },
 "nbformat": 4,
 "nbformat_minor": 4
}